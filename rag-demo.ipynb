{
 "cells": [
  {
   "cell_type": "code",
   "execution_count": null,
   "metadata": {},
   "outputs": [],
   "source": [
    "import os\n",
    "from langchain.chat_models import ChatOpenAI\n",
    "\n",
    "# Load the OpenAI API key from a .env file first\n",
    "from dotenv import load_dotenv\n",
    "load_dotenv() \n",
    "\n",
    "chat = ChatOpenAI(\n",
    "    openai_api_key=os.environ[\"OPENAI_API_KEY\"],\n",
    "    model='gpt-3.5-turbo'\n",
    ")"
   ]
  },
  {
   "cell_type": "code",
   "execution_count": null,
   "metadata": {},
   "outputs": [],
   "source": [
    "import textwrap\n",
    "\n",
    "def print_with_wrap(text, width=80):\n",
    "    wrapped_text = textwrap.fill(text, width=width)\n",
    "    print(wrapped_text)"
   ]
  },
  {
   "cell_type": "code",
   "execution_count": null,
   "metadata": {},
   "outputs": [],
   "source": [
    "# Imports from langchain\n",
    "from langchain.document_loaders import PyPDFLoader \n",
    "from langchain.embeddings import OpenAIEmbeddings \n",
    "from langchain.vectorstores import Chroma \n",
    "from langchain.chains import ConversationalRetrievalChain \n",
    "from langchain.chat_models import ChatOpenAI "
   ]
  },
  {
   "cell_type": "code",
   "execution_count": null,
   "metadata": {},
   "outputs": [],
   "source": [
    "# create a pdf loader\n",
    "loader = PyPDFLoader(\"Guide-to-Programs-Services-2022.pdf\")"
   ]
  },
  {
   "cell_type": "code",
   "execution_count": null,
   "metadata": {},
   "outputs": [],
   "source": [
    "# load the pages\n",
    "pages = loader.load_and_split()"
   ]
  },
  {
   "cell_type": "code",
   "execution_count": null,
   "metadata": {},
   "outputs": [],
   "source": [
    "# Show the loaded content\n",
    "for i in range(len(pages)):\n",
    "    print(f'\\n\\n\\nPage {i}')\n",
    "    print(pages[i].page_content)"
   ]
  },
  {
   "cell_type": "code",
   "execution_count": null,
   "metadata": {},
   "outputs": [],
   "source": [
    "# Get embeddings for the content and store them in a local vector database\n",
    "openai_embeddings = OpenAIEmbeddings()\n",
    "vectordatabase = Chroma.from_documents(pages, embedding=openai_embeddings, persist_directory=\".\")\n",
    "vectordatabase.persist()"
   ]
  },
  {
   "cell_type": "code",
   "execution_count": null,
   "metadata": {},
   "outputs": [],
   "source": [
    "from langchain.memory import ConversationBufferMemory\n",
    "\n",
    "llm = ChatOpenAI(model_name=\"gpt-3.5-turbo\", temperature=0.9)\n",
    "memory = ConversationBufferMemory(memory_key=\"chat_history\", return_messages=True)\n",
    "crc = ConversationalRetrievalChain.from_llm(llm, vectordatabase.as_retriever(search_type=\"similarity\", search_kwargs={\"k\":2}), \n",
    "            memory=memory, return_source_documents=False)\n",
    "\n",
    "query = \"Does NLHC offer scholarships?\"\n",
    "result = crc({\"question\": query})\n",
    "print(\"Question:\")\n",
    "print(query)\n",
    "print(\"Answer:\")\n",
    "print_with_wrap(result[\"answer\"])"
   ]
  },
  {
   "cell_type": "code",
   "execution_count": null,
   "metadata": {},
   "outputs": [],
   "source": [
    "query = \"How can I apply for a scholarship?\"\n",
    "result = crc({\"question\": query})\n",
    "print(\"Question:\")\n",
    "print(query)\n",
    "print(\"Answer:\")\n",
    "print_with_wrap(result[\"answer\"])"
   ]
  },
  {
   "cell_type": "code",
   "execution_count": null,
   "metadata": {},
   "outputs": [],
   "source": [
    "query = \"I live in Gander, what number should I call?\"\n",
    "result = crc({\"question\": query})\n",
    "print(\"Question:\")\n",
    "print(query)\n",
    "print(\"Answer:\")\n",
    "print(result[\"answer\"])"
   ]
  }
 ],
 "metadata": {
  "kernelspec": {
   "display_name": "llmdemo",
   "language": "python",
   "name": "python3"
  },
  "language_info": {
   "codemirror_mode": {
    "name": "ipython",
    "version": 3
   },
   "file_extension": ".py",
   "mimetype": "text/x-python",
   "name": "python",
   "nbconvert_exporter": "python",
   "pygments_lexer": "ipython3",
   "version": "3.11.6"
  }
 },
 "nbformat": 4,
 "nbformat_minor": 2
}
