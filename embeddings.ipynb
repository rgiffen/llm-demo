{
 "cells": [
  {
   "cell_type": "code",
   "execution_count": null,
   "metadata": {},
   "outputs": [],
   "source": [
    "%load_ext dotenv\n",
    "%dotenv\n"
   ]
  },
  {
   "cell_type": "code",
   "execution_count": null,
   "metadata": {},
   "outputs": [],
   "source": [
    "import os\n",
    "import openai\n",
    "from openai.embeddings_utils import get_embeddings\n",
    "from sklearn.decomposition import PCA\n",
    "import pandas as pd\n",
    "\n",
    "openai.api_key = os.environ['OPENAI_API_KEY']\n",
    "\n"
   ]
  },
  {
   "cell_type": "code",
   "execution_count": null,
   "metadata": {},
   "outputs": [],
   "source": [
    "tokens = ['king','queen','husband', 'wife', 'brother', 'sister']\n",
    "#tokens = ['correct','incorrect','hot', 'cold', 'hard', 'soft', 'dark','light']\n",
    "#tokens = ['book', 'livre', 'libro', 'cup', 'tasse', 'tazza', 'fork', 'fourchette', 'forchetta', 'lamp', 'lampe', 'lampada']\n",
    "#tokens = ['book','livre','cup','tasse','fork','fourchette','lamp','lampe']\n",
    "#tokens = ['horse','foal','cow','calf','dog','puppy','cat','kitten']\n",
    "#tokens = ['Horse','Unicorn','Alligator','Dragon','Woman','Mermaid']\n",
    "#tokens = ['elephant', 'mouse', 'mountain', 'pebble', 'tree', 'blade of grass']\n",
    "\n"
   ]
  },
  {
   "cell_type": "code",
   "execution_count": null,
   "metadata": {},
   "outputs": [],
   "source": [
    "# Get word embeddings from OpenAI\n",
    "token_embeddings = get_embeddings(tokens, engine=\"text-embedding-ada-002\")"
   ]
  },
  {
   "cell_type": "code",
   "execution_count": null,
   "metadata": {},
   "outputs": [],
   "source": [
    "df = pd.DataFrame(dict(zip(tokens, token_embeddings))).T\n",
    "df"
   ]
  },
  {
   "cell_type": "code",
   "execution_count": null,
   "metadata": {},
   "outputs": [],
   "source": [
    "# Convert to 3 dimensions\n",
    "\n",
    "pca_model = PCA(n_components=3)\n",
    "transformed_token_embeddings = pca_model.fit_transform(token_embeddings)\n",
    "transformed_token_embeddings_list = transformed_token_embeddings.tolist()"
   ]
  },
  {
   "cell_type": "code",
   "execution_count": null,
   "metadata": {},
   "outputs": [],
   "source": [
    "x = [row[0] for row in transformed_token_embeddings_list]\n",
    "y = [row[1] for row in transformed_token_embeddings_list]\n",
    "z = [row[2] for row in transformed_token_embeddings_list]"
   ]
  },
  {
   "cell_type": "code",
   "execution_count": null,
   "metadata": {},
   "outputs": [],
   "source": [
    "# Pairs\n",
    "import plotly.graph_objs as go\n",
    "\n",
    "fig = go.Figure()\n",
    "\n",
    "fig.add_trace(\n",
    "    go.Scatter3d(\n",
    "        x=x[::2],\n",
    "        y=y[::2],\n",
    "        z=z[::2],\n",
    "        mode=\"markers\",\n",
    "        marker=dict(size=5, color=0, colorscale=\"Viridis\", opacity=0.8),\n",
    "        text=tokens[::2],\n",
    "        name='Male'\n",
    "    )\n",
    ")\n",
    "\n",
    "fig.add_trace(\n",
    "    go.Scatter3d(\n",
    "        x=x[1::2],\n",
    "        y=y[1::2],\n",
    "        z=z[1::2],\n",
    "        mode=\"markers\",\n",
    "        marker=dict(size=5, color=1, colorscale=\"Viridis\", opacity=0.8),\n",
    "        text=tokens[1::2],\n",
    "        name='Female'\n",
    "    )\n",
    ")\n",
    "\n",
    "fig.update_layout(\n",
    "    autosize=False,\n",
    "    title=\"3D Scatter Plot\",\n",
    "    width=800,\n",
    "    height=500,\n",
    "    margin=dict(l=50, r=50, b=100, t=100, pad=10),\n",
    "    scene=dict(\n",
    "        xaxis=dict(title=\"x\"),\n",
    "        yaxis=dict(title=\"y\"),\n",
    "        zaxis=dict(title=\"z\"),\n",
    "    ),\n",
    ")\n",
    "\n",
    "fig.show()"
   ]
  },
  {
   "cell_type": "code",
   "execution_count": null,
   "metadata": {},
   "outputs": [],
   "source": [
    "# Triplets\n",
    "import plotly.graph_objs as go\n",
    "\n",
    "fig = go.Figure()\n",
    "\n",
    "fig.add_trace(\n",
    "    go.Scatter3d(\n",
    "        x=x[::3],\n",
    "        y=y[::3],\n",
    "        z=z[::3],\n",
    "        mode=\"markers\",\n",
    "        marker=dict(size=5, color=0, colorscale=\"Viridis\", opacity=0.8),\n",
    "        text=tokens[::3],\n",
    "        name='English'\n",
    "    )\n",
    ")\n",
    "\n",
    "fig.add_trace(\n",
    "    go.Scatter3d(\n",
    "        x=x[1::3],\n",
    "        y=y[1::3],\n",
    "        z=z[1::3],\n",
    "        mode=\"markers\",\n",
    "        marker=dict(size=5, color=1, colorscale=\"Viridis\", opacity=0.8),\n",
    "        text=tokens[1::3],\n",
    "        name='French'\n",
    "    )\n",
    ")\n",
    "\n",
    "fig.add_trace(\n",
    "    go.Scatter3d(\n",
    "        x=x[2::3],\n",
    "        y=y[2::3],\n",
    "        z=z[2::3],\n",
    "        mode=\"markers\",\n",
    "        marker=dict(size=5, color=2, colorscale=\"Viridis\", opacity=0.8),\n",
    "        text=tokens[2::3],\n",
    "        name='Italian'\n",
    "    )\n",
    ")\n",
    "\n",
    "fig.update_layout(\n",
    "    autosize=False,\n",
    "    title=\"3D Scatter Plot\",\n",
    "    width=800,\n",
    "    height=500,\n",
    "    margin=dict(l=50, r=50, b=100, t=100, pad=10),\n",
    "    scene=dict(\n",
    "        xaxis=dict(title=\"x\"),\n",
    "        yaxis=dict(title=\"y\"),\n",
    "        zaxis=dict(title=\"z\"),\n",
    "    ),\n",
    ")\n",
    "\n",
    "fig.show()"
   ]
  }
 ],
 "metadata": {
  "kernelspec": {
   "display_name": "Python 3",
   "language": "python",
   "name": "python3"
  },
  "language_info": {
   "codemirror_mode": {
    "name": "ipython",
    "version": 3
   },
   "file_extension": ".py",
   "mimetype": "text/x-python",
   "name": "python",
   "nbconvert_exporter": "python",
   "pygments_lexer": "ipython3",
   "version": "3.11.6"
  },
  "orig_nbformat": 4
 },
 "nbformat": 4,
 "nbformat_minor": 2
}
